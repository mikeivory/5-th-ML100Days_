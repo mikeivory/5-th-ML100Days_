{
 "cells": [
  {
   "cell_type": "markdown",
   "metadata": {},
   "source": [
    "## Work\n",
    "1. 試比較 save_best_only 與否的差異\n",
    "2. 請僅存入將 save_weights_only 設定為 True, 並嘗試 reset ipynb 並將模型與權重重新建回並預測 x_test"
   ]
  },
  {
   "cell_type": "code",
   "execution_count": 1,
   "metadata": {},
   "outputs": [],
   "source": [
    "import os\n",
    "import keras\n",
    "\n",
    "import tensorflow as tf\n",
    "gpus = tf.config.experimental.list_physical_devices(device_type='GPU')\n",
    "for gpu in gpus:\n",
    "    tf.config.experimental.set_memory_growth(gpu, True)"
   ]
  },
  {
   "cell_type": "code",
   "execution_count": 2,
   "metadata": {},
   "outputs": [],
   "source": [
    "train, test = keras.datasets.cifar10.load_data()"
   ]
  },
  {
   "cell_type": "code",
   "execution_count": 3,
   "metadata": {},
   "outputs": [],
   "source": [
    "## 資料前處理\n",
    "def preproc_x(x, flatten=True):\n",
    "    x = x / 255.\n",
    "    if flatten:\n",
    "        x = x.reshape((len(x), -1))\n",
    "    return x\n",
    "\n",
    "def preproc_y(y, num_classes=10):\n",
    "    if y.shape[-1] == 1:\n",
    "        y = keras.utils.to_categorical(y, num_classes)\n",
    "    return y    "
   ]
  },
  {
   "cell_type": "code",
   "execution_count": 4,
   "metadata": {},
   "outputs": [],
   "source": [
    "x_train, y_train = train\n",
    "x_test, y_test = test\n",
    "\n",
    "# Preproc the inputs\n",
    "x_train = preproc_x(x_train)\n",
    "x_test = preproc_x(x_test)\n",
    "\n",
    "# Preprc the outputs\n",
    "y_train = preproc_y(y_train)\n",
    "y_test = preproc_y(y_test)"
   ]
  },
  {
   "cell_type": "code",
   "execution_count": 5,
   "metadata": {},
   "outputs": [],
   "source": [
    "from keras.layers import BatchNormalization\n",
    "def build_mlp(input_shape, output_units=10, num_neurons=[512, 256, 128]):\n",
    "    input_layer = keras.layers.Input(input_shape)\n",
    "    \n",
    "    for i, n_units in enumerate(num_neurons):\n",
    "        if i == 0:\n",
    "            x = keras.layers.Dense(units=n_units, \n",
    "                                   activation=\"relu\", \n",
    "                                   name=\"hidden_layer\"+str(i+1))(input_layer)\n",
    "            x = BatchNormalization()(x)\n",
    "        else:\n",
    "            x = keras.layers.Dense(units=n_units, \n",
    "                                   activation=\"relu\", \n",
    "                                   name=\"hidden_layer\"+str(i+1))(x)\n",
    "            x = BatchNormalization()(x)\n",
    "    \n",
    "    out = keras.layers.Dense(units=output_units, activation=\"softmax\", name=\"output\")(x)\n",
    "    \n",
    "    model = keras.models.Model(inputs=[input_layer], outputs=[out])\n",
    "    return model"
   ]
  },
  {
   "cell_type": "code",
   "execution_count": 6,
   "metadata": {},
   "outputs": [],
   "source": [
    "\"\"\"Code Here\n",
    "設定超參數\n",
    "\"\"\"\n",
    "LEARNING_RATE = 1e-3\n",
    "EPOCHS = 50\n",
    "BATCH_SIZE = 1024\n",
    "MOMENTUM = 0.95"
   ]
  },
  {
   "cell_type": "code",
   "execution_count": 7,
   "metadata": {},
   "outputs": [
    {
     "name": "stdout",
     "output_type": "stream",
     "text": [
      "Model: \"model\"\n",
      "_________________________________________________________________\n",
      "Layer (type)                 Output Shape              Param #   \n",
      "=================================================================\n",
      "input_1 (InputLayer)         [(None, 3072)]            0         \n",
      "_________________________________________________________________\n",
      "hidden_layer1 (Dense)        (None, 512)               1573376   \n",
      "_________________________________________________________________\n",
      "batch_normalization (BatchNo (None, 512)               2048      \n",
      "_________________________________________________________________\n",
      "hidden_layer2 (Dense)        (None, 256)               131328    \n",
      "_________________________________________________________________\n",
      "batch_normalization_1 (Batch (None, 256)               1024      \n",
      "_________________________________________________________________\n",
      "hidden_layer3 (Dense)        (None, 128)               32896     \n",
      "_________________________________________________________________\n",
      "batch_normalization_2 (Batch (None, 128)               512       \n",
      "_________________________________________________________________\n",
      "output (Dense)               (None, 10)                1290      \n",
      "=================================================================\n",
      "Total params: 1,742,474\n",
      "Trainable params: 1,740,682\n",
      "Non-trainable params: 1,792\n",
      "_________________________________________________________________\n",
      "Epoch 1/50\n",
      "49/49 [==============================] - 3s 24ms/step - loss: 2.4592 - accuracy: 0.2062 - val_loss: 2.1144 - val_accuracy: 0.1985\n",
      "Epoch 2/50\n",
      "49/49 [==============================] - 1s 11ms/step - loss: 1.7802 - accuracy: 0.3829 - val_loss: 1.9741 - val_accuracy: 0.2896\n",
      "Epoch 3/50\n",
      "49/49 [==============================] - 1s 11ms/step - loss: 1.6316 - accuracy: 0.4273 - val_loss: 1.8331 - val_accuracy: 0.3594\n",
      "Epoch 4/50\n",
      "49/49 [==============================] - 1s 12ms/step - loss: 1.5473 - accuracy: 0.4594 - val_loss: 1.7055 - val_accuracy: 0.4067\n",
      "Epoch 5/50\n",
      "49/49 [==============================] - 1s 11ms/step - loss: 1.4973 - accuracy: 0.4754 - val_loss: 1.6390 - val_accuracy: 0.4267\n",
      "Epoch 6/50\n",
      "49/49 [==============================] - 1s 11ms/step - loss: 1.4446 - accuracy: 0.4954 - val_loss: 1.5819 - val_accuracy: 0.4426\n",
      "Epoch 7/50\n",
      "49/49 [==============================] - 1s 11ms/step - loss: 1.4056 - accuracy: 0.5096 - val_loss: 1.5558 - val_accuracy: 0.4495\n",
      "Epoch 8/50\n",
      "49/49 [==============================] - 1s 11ms/step - loss: 1.3658 - accuracy: 0.5274 - val_loss: 1.5344 - val_accuracy: 0.4535\n",
      "Epoch 9/50\n",
      "49/49 [==============================] - 1s 11ms/step - loss: 1.3406 - accuracy: 0.5348 - val_loss: 1.5066 - val_accuracy: 0.4655\n",
      "Epoch 10/50\n",
      "49/49 [==============================] - 1s 11ms/step - loss: 1.3103 - accuracy: 0.5452 - val_loss: 1.4956 - val_accuracy: 0.4736\n",
      "Epoch 11/50\n",
      "49/49 [==============================] - 1s 11ms/step - loss: 1.2803 - accuracy: 0.5550 - val_loss: 1.4790 - val_accuracy: 0.4772\n",
      "Epoch 12/50\n",
      "49/49 [==============================] - 1s 11ms/step - loss: 1.2504 - accuracy: 0.5693 - val_loss: 1.4696 - val_accuracy: 0.4789\n",
      "Epoch 13/50\n",
      "49/49 [==============================] - 1s 11ms/step - loss: 1.2185 - accuracy: 0.5803 - val_loss: 1.4648 - val_accuracy: 0.4819\n",
      "Epoch 14/50\n",
      "49/49 [==============================] - 1s 11ms/step - loss: 1.2043 - accuracy: 0.5835 - val_loss: 1.4657 - val_accuracy: 0.4845\n",
      "Epoch 15/50\n",
      "49/49 [==============================] - 1s 11ms/step - loss: 1.1763 - accuracy: 0.5929 - val_loss: 1.4640 - val_accuracy: 0.4866\n",
      "Epoch 16/50\n",
      "49/49 [==============================] - 1s 11ms/step - loss: 1.1561 - accuracy: 0.6031 - val_loss: 1.4640 - val_accuracy: 0.4894\n",
      "Epoch 17/50\n",
      "49/49 [==============================] - 1s 11ms/step - loss: 1.1362 - accuracy: 0.6099 - val_loss: 1.4537 - val_accuracy: 0.4885\n",
      "Epoch 18/50\n",
      "49/49 [==============================] - 1s 11ms/step - loss: 1.1058 - accuracy: 0.6203 - val_loss: 1.4633 - val_accuracy: 0.4918\n",
      "Epoch 19/50\n",
      "49/49 [==============================] - 1s 11ms/step - loss: 1.0848 - accuracy: 0.6297 - val_loss: 1.4524 - val_accuracy: 0.4916\n",
      "Epoch 20/50\n",
      "49/49 [==============================] - 1s 11ms/step - loss: 1.0561 - accuracy: 0.6390 - val_loss: 1.4660 - val_accuracy: 0.4880\n",
      "Epoch 21/50\n",
      "49/49 [==============================] - 1s 11ms/step - loss: 1.0401 - accuracy: 0.6502 - val_loss: 1.4613 - val_accuracy: 0.4979\n",
      "Epoch 22/50\n",
      "49/49 [==============================] - 1s 11ms/step - loss: 1.0111 - accuracy: 0.6603 - val_loss: 1.4628 - val_accuracy: 0.4897\n",
      "Epoch 23/50\n",
      "49/49 [==============================] - 1s 11ms/step - loss: 0.9989 - accuracy: 0.6634 - val_loss: 1.4627 - val_accuracy: 0.4924\n",
      "Epoch 24/50\n",
      "49/49 [==============================] - 1s 11ms/step - loss: 0.9765 - accuracy: 0.6737 - val_loss: 1.4658 - val_accuracy: 0.4961\n",
      "Epoch 25/50\n",
      "49/49 [==============================] - 1s 12ms/step - loss: 0.9492 - accuracy: 0.6833 - val_loss: 1.4572 - val_accuracy: 0.4992\n",
      "Epoch 26/50\n",
      "49/49 [==============================] - 1s 11ms/step - loss: 0.9361 - accuracy: 0.6898 - val_loss: 1.4716 - val_accuracy: 0.4902\n",
      "Epoch 27/50\n",
      "49/49 [==============================] - 1s 11ms/step - loss: 0.9099 - accuracy: 0.6973 - val_loss: 1.4891 - val_accuracy: 0.4908\n",
      "Epoch 28/50\n",
      "49/49 [==============================] - 1s 11ms/step - loss: 0.8976 - accuracy: 0.7025 - val_loss: 1.4793 - val_accuracy: 0.4933\n",
      "Epoch 29/50\n",
      "49/49 [==============================] - 1s 11ms/step - loss: 0.8730 - accuracy: 0.7148 - val_loss: 1.4767 - val_accuracy: 0.4971\n",
      "Epoch 30/50\n",
      "49/49 [==============================] - 1s 11ms/step - loss: 0.8554 - accuracy: 0.7193 - val_loss: 1.5003 - val_accuracy: 0.4868\n",
      "Epoch 31/50\n",
      "49/49 [==============================] - 1s 11ms/step - loss: 0.8342 - accuracy: 0.7280 - val_loss: 1.5024 - val_accuracy: 0.4877\n",
      "Epoch 32/50\n",
      "49/49 [==============================] - 1s 11ms/step - loss: 0.8125 - accuracy: 0.7338 - val_loss: 1.5019 - val_accuracy: 0.4924\n",
      "Epoch 33/50\n",
      "49/49 [==============================] - 1s 11ms/step - loss: 0.7904 - accuracy: 0.7476 - val_loss: 1.5039 - val_accuracy: 0.4967\n",
      "Epoch 34/50\n",
      "49/49 [==============================] - 1s 11ms/step - loss: 0.7708 - accuracy: 0.7548 - val_loss: 1.5242 - val_accuracy: 0.4925\n",
      "Epoch 35/50\n",
      "49/49 [==============================] - 1s 11ms/step - loss: 0.7482 - accuracy: 0.7620 - val_loss: 1.5269 - val_accuracy: 0.4929\n",
      "Epoch 36/50\n",
      "49/49 [==============================] - 1s 11ms/step - loss: 0.7310 - accuracy: 0.7686 - val_loss: 1.5281 - val_accuracy: 0.4899\n",
      "Epoch 37/50\n",
      "49/49 [==============================] - 1s 11ms/step - loss: 0.7180 - accuracy: 0.7734 - val_loss: 1.5335 - val_accuracy: 0.4968\n",
      "Epoch 38/50\n",
      "49/49 [==============================] - 1s 11ms/step - loss: 0.6882 - accuracy: 0.7883 - val_loss: 1.5443 - val_accuracy: 0.4955\n",
      "Epoch 39/50\n",
      "49/49 [==============================] - 1s 11ms/step - loss: 0.6749 - accuracy: 0.7922 - val_loss: 1.5697 - val_accuracy: 0.4902\n",
      "Epoch 40/50\n",
      "49/49 [==============================] - 1s 11ms/step - loss: 0.6564 - accuracy: 0.7977 - val_loss: 1.5681 - val_accuracy: 0.4923\n",
      "Epoch 41/50\n",
      "49/49 [==============================] - 1s 11ms/step - loss: 0.6364 - accuracy: 0.8080 - val_loss: 1.5730 - val_accuracy: 0.4897\n",
      "Epoch 42/50\n",
      "49/49 [==============================] - 1s 11ms/step - loss: 0.6198 - accuracy: 0.8154 - val_loss: 1.5882 - val_accuracy: 0.4910\n",
      "Epoch 43/50\n",
      "49/49 [==============================] - 1s 11ms/step - loss: 0.5987 - accuracy: 0.8224 - val_loss: 1.5984 - val_accuracy: 0.4933\n",
      "Epoch 44/50\n",
      "49/49 [==============================] - 1s 11ms/step - loss: 0.5859 - accuracy: 0.8274 - val_loss: 1.6100 - val_accuracy: 0.4902\n",
      "Epoch 45/50\n",
      "49/49 [==============================] - 1s 11ms/step - loss: 0.5720 - accuracy: 0.8351 - val_loss: 1.6125 - val_accuracy: 0.4928\n",
      "Epoch 46/50\n",
      "49/49 [==============================] - 1s 11ms/step - loss: 0.5487 - accuracy: 0.8443 - val_loss: 1.6254 - val_accuracy: 0.4920\n",
      "Epoch 47/50\n",
      "49/49 [==============================] - 1s 11ms/step - loss: 0.5361 - accuracy: 0.8489 - val_loss: 1.6334 - val_accuracy: 0.4893\n",
      "Epoch 48/50\n",
      "49/49 [==============================] - 1s 11ms/step - loss: 0.5116 - accuracy: 0.8588 - val_loss: 1.6519 - val_accuracy: 0.4871\n"
     ]
    },
    {
     "name": "stdout",
     "output_type": "stream",
     "text": [
      "Epoch 49/50\n",
      "49/49 [==============================] - 1s 11ms/step - loss: 0.4997 - accuracy: 0.8623 - val_loss: 1.6999 - val_accuracy: 0.4879\n",
      "Epoch 50/50\n",
      "49/49 [==============================] - 1s 11ms/step - loss: 0.4859 - accuracy: 0.8685 - val_loss: 1.6989 - val_accuracy: 0.4778\n"
     ]
    }
   ],
   "source": [
    "# 載入 Callbacks\n",
    "\"\"\"Code Here\n",
    "設定 callbacks: model checkpoint\n",
    "\"\"\"\n",
    "\n",
    "from keras.callbacks import ModelCheckpoint\n",
    "\n",
    "model_ckpt = ModelCheckpoint(filepath=\"./tmp.h5\", \n",
    "                             monitor=\"val_loss\", \n",
    "                             save_best_only=True)\n",
    "\"\"\"Code Here\n",
    "撰寫你的訓練流程並將結果用 dictionary 紀錄\n",
    "\"\"\"\n",
    "model = build_mlp(input_shape=x_train.shape[1:])\n",
    "model.summary()\n",
    "optimizer = keras.optimizers.SGD(lr=LEARNING_RATE, nesterov=True, momentum=MOMENTUM)\n",
    "model.compile(loss=\"categorical_crossentropy\", metrics=[\"accuracy\"], optimizer=optimizer)\n",
    "\n",
    "model.fit(x_train, y_train, \n",
    "          epochs=EPOCHS, \n",
    "          batch_size=BATCH_SIZE, \n",
    "          validation_data=(x_test, y_test), \n",
    "          shuffle=True,\n",
    "          callbacks=[model_ckpt]\n",
    "         )\n",
    "model.save(\"final_model.h5\")\n",
    "model.save_weights(\"model_weights.h5\")\n",
    "# Collect results\n",
    "train_loss = model.history.history[\"loss\"]\n",
    "valid_loss = model.history.history[\"val_loss\"]\n",
    "train_acc = model.history.history[\"accuracy\"]\n",
    "valid_acc = model.history.history[\"val_accuracy\"]\n",
    "\n",
    "pred_final = model.predict(x_test)\n",
    "# Load back\n",
    "model = keras.models.load_model(\"./tmp.h5\")\n",
    "pred_loadback = model.predict(x_test)"
   ]
  },
  {
   "cell_type": "code",
   "execution_count": 10,
   "metadata": {},
   "outputs": [
    {
     "data": {
      "text/plain": [
       "array([3, 8, 0, ..., 5, 1, 7], dtype=int64)"
      ]
     },
     "execution_count": 10,
     "metadata": {},
     "output_type": "execute_result"
    }
   ],
   "source": [
    "pred_final.argmax(axis=-1)"
   ]
  },
  {
   "cell_type": "code",
   "execution_count": 9,
   "metadata": {},
   "outputs": [
    {
     "data": {
      "text/plain": [
       "array([[2.49716290e-03, 1.17645338e-02, 1.87630191e-01, ...,\n",
       "        3.24307999e-04, 2.89719198e-02, 8.44929949e-04],\n",
       "       [3.42295989e-02, 1.50098830e-01, 4.65019327e-03, ...,\n",
       "        1.91121490e-03, 4.67031300e-01, 3.37618947e-01],\n",
       "       [2.51561761e-01, 8.77658427e-02, 9.96433012e-03, ...,\n",
       "        1.13841165e-02, 2.36157000e-01, 3.80958736e-01],\n",
       "       ...,\n",
       "       [5.04372735e-03, 4.24664980e-03, 3.20482999e-01, ...,\n",
       "        3.10177100e-03, 1.10320961e-02, 3.41366674e-03],\n",
       "       [4.63460870e-02, 3.01203635e-02, 8.85905102e-02, ...,\n",
       "        1.82307046e-02, 1.03683040e-01, 1.45700006e-02],\n",
       "       [1.22971840e-01, 3.81776430e-02, 6.23141378e-02, ...,\n",
       "        4.79748338e-01, 4.74119093e-03, 8.68596733e-02]], dtype=float32)"
      ]
     },
     "execution_count": 9,
     "metadata": {},
     "output_type": "execute_result"
    }
   ],
   "source": [
    "pred_loadback"
   ]
  },
  {
   "cell_type": "code",
   "execution_count": 13,
   "metadata": {},
   "outputs": [
    {
     "name": "stdout",
     "output_type": "stream",
     "text": [
      "Collecting sklearn\n",
      "  Downloading sklearn-0.0.tar.gz (1.1 kB)\n",
      "Collecting scikit-learn\n",
      "  Downloading scikit_learn-0.23.2-cp38-cp38-win_amd64.whl (6.8 MB)\n",
      "Collecting joblib>=0.11\n",
      "  Downloading joblib-1.0.0-py3-none-any.whl (302 kB)\n",
      "Collecting threadpoolctl>=2.0.0\n",
      "  Downloading threadpoolctl-2.1.0-py3-none-any.whl (12 kB)\n",
      "Requirement already satisfied: numpy>=1.13.3 in c:\\users\\user\\anaconda3\\envs\\rtx0s\\lib\\site-packages (from scikit-learn->sklearn) (1.19.3)\n",
      "Requirement already satisfied: scipy>=0.19.1 in c:\\users\\user\\anaconda3\\envs\\rtx0s\\lib\\site-packages (from scikit-learn->sklearn) (1.5.4)\n",
      "Building wheels for collected packages: sklearn\n",
      "  Building wheel for sklearn (setup.py): started\n",
      "  Building wheel for sklearn (setup.py): finished with status 'done'\n",
      "  Created wheel for sklearn: filename=sklearn-0.0-py2.py3-none-any.whl size=1321 sha256=d32b038dab6ee8ddaea672331870c9ed158ee0eeee55eb39c2c2a76d002764e1\n",
      "  Stored in directory: c:\\users\\user\\appdata\\local\\pip\\cache\\wheels\\22\\0b\\40\\fd3f795caaa1fb4c6cb738bc1f56100be1e57da95849bfc897\n",
      "Successfully built sklearn\n",
      "Installing collected packages: joblib, threadpoolctl, scikit-learn, sklearn\n",
      "Successfully installed joblib-1.0.0 scikit-learn-0.23.2 sklearn-0.0 threadpoolctl-2.1.0\n",
      "Note: you may need to restart the kernel to use updated packages.\n"
     ]
    }
   ],
   "source": [
    "pip install sklearn"
   ]
  },
  {
   "cell_type": "code",
   "execution_count": 14,
   "metadata": {
    "scrolled": true
   },
   "outputs": [
    {
     "name": "stdout",
     "output_type": "stream",
     "text": [
      "Accuracy of final weights: 0.478\n",
      "Accuracy of best weights: 0.491\n"
     ]
    }
   ],
   "source": [
    "from sklearn.metrics import accuracy_score\n",
    "\n",
    "final_model_acc = accuracy_score(y_true=y_test.argmax(axis=-1), y_pred=pred_final.argmax(axis=-1))\n",
    "loadback_acc = accuracy_score(y_true=y_test.argmax(axis=-1), y_pred=pred_loadback.argmax(axis=-1))\n",
    "\n",
    "print(\"Accuracy of final weights: %.3f\" % final_model_acc)\n",
    "print(\"Accuracy of best weights: %.3f\" % loadback_acc)"
   ]
  },
  {
   "cell_type": "code",
   "execution_count": 15,
   "metadata": {},
   "outputs": [
    {
     "name": "stdout",
     "output_type": "stream",
     "text": [
      "Accuracy of best weights: 0.089\n",
      "Accuracy of best weights: 0.478\n"
     ]
    }
   ],
   "source": [
    "\n",
    "new_model = build_mlp(input_shape=x_train.shape[1:])\n",
    "new_model_pred = new_model.predict(x_test)\n",
    "new_model_acc = accuracy_score(y_true=y_test.argmax(axis=-1), y_pred=new_model_pred.argmax(axis=-1))\n",
    "print(\"Accuracy of best weights: %.3f\" % new_model_acc)\n",
    "\n",
    "new_model.load_weights(\"./model_weights.h5\")\n",
    "new_model_pred = new_model.predict(x_test)\n",
    "new_model_loadback_acc = accuracy_score(y_true=y_test.argmax(axis=-1), y_pred=new_model_pred.argmax(axis=-1))\n",
    "print(\"Accuracy of best weights: %.3f\" % new_model_loadback_acc)"
   ]
  },
  {
   "cell_type": "code",
   "execution_count": null,
   "metadata": {},
   "outputs": [],
   "source": []
  }
 ],
 "metadata": {
  "kernelspec": {
   "display_name": "Python (rtx0s)",
   "language": "python",
   "name": "rtx0s"
  },
  "language_info": {
   "codemirror_mode": {
    "name": "ipython",
    "version": 3
   },
   "file_extension": ".py",
   "mimetype": "text/x-python",
   "name": "python",
   "nbconvert_exporter": "python",
   "pygments_lexer": "ipython3",
   "version": "3.8.5"
  }
 },
 "nbformat": 4,
 "nbformat_minor": 2
}
