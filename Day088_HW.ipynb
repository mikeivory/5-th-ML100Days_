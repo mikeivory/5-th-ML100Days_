{
 "cells": [
  {
   "cell_type": "markdown",
   "metadata": {},
   "source": [
    "## Work\n",
    "1. 請嘗試寫一個 callback 用來記錄各類別在訓練過程中，對驗證集的 True Positive 與 True Negative"
   ]
  },
  {
   "cell_type": "code",
   "execution_count": 1,
   "metadata": {},
   "outputs": [],
   "source": [
    "import os\n",
    "import keras\n",
    "\n",
    "import tensorflow as tf\n",
    "gpus = tf.config.experimental.list_physical_devices(device_type='GPU')\n",
    "for gpu in gpus:\n",
    "    tf.config.experimental.set_memory_growth(gpu, True)\n",
    "import os\n",
    "import keras\n",
    "\n"
   ]
  },
  {
   "cell_type": "code",
   "execution_count": 2,
   "metadata": {},
   "outputs": [],
   "source": [
    "train, test = keras.datasets.cifar10.load_data()"
   ]
  },
  {
   "cell_type": "code",
   "execution_count": 3,
   "metadata": {},
   "outputs": [],
   "source": [
    "## 資料前處理\n",
    "def preproc_x(x, flatten=True):\n",
    "    x = x / 255.\n",
    "    if flatten:\n",
    "        x = x.reshape((len(x), -1))\n",
    "    return x\n",
    "\n",
    "def preproc_y(y, num_classes=10):\n",
    "    if y.shape[-1] == 1:\n",
    "        y = keras.utils.to_categorical(y, num_classes)\n",
    "    return y    "
   ]
  },
  {
   "cell_type": "code",
   "execution_count": 4,
   "metadata": {},
   "outputs": [],
   "source": [
    "x_train, y_train = train\n",
    "x_test, y_test = test\n",
    "\n",
    "# Preproc the inputs\n",
    "x_train = preproc_x(x_train)\n",
    "x_test = preproc_x(x_test)\n",
    "\n",
    "# Preprc the outputs\n",
    "y_train = preproc_y(y_train)\n",
    "y_test = preproc_y(y_test)"
   ]
  },
  {
   "cell_type": "code",
   "execution_count": 5,
   "metadata": {},
   "outputs": [],
   "source": [
    "from keras.layers import BatchNormalization\n",
    "def build_mlp(input_shape, output_units=10, num_neurons=[256, 256, 256]):\n",
    "    input_layer = keras.layers.Input(input_shape)\n",
    "    \n",
    "    for i, n_units in enumerate(num_neurons):\n",
    "        if i == 0:\n",
    "            x = keras.layers.Dense(units=n_units, \n",
    "                                   activation=\"relu\", \n",
    "                                   name=\"hidden_layer\"+str(i+1))(input_layer)\n",
    "            x = BatchNormalization()(x)\n",
    "        else:\n",
    "            x = keras.layers.Dense(units=n_units, \n",
    "                                   activation=\"relu\", \n",
    "                                   name=\"hidden_layer\"+str(i+1))(x)\n",
    "            x = BatchNormalization()(x)\n",
    "    \n",
    "    out = keras.layers.Dense(units=output_units, activation=\"softmax\", name=\"output\")(x)\n",
    "    \n",
    "    model = keras.models.Model(inputs=[input_layer], outputs=[out])\n",
    "    return model"
   ]
  },
  {
   "cell_type": "code",
   "execution_count": 6,
   "metadata": {},
   "outputs": [],
   "source": [
    "## 超參數設定\n",
    "LEARNING_RATE = 1e-3\n",
    "EPOCHS = 25\n",
    "BATCH_SIZE = 1024\n",
    "MOMENTUM = 0.95"
   ]
  },
  {
   "cell_type": "code",
   "execution_count": 7,
   "metadata": {},
   "outputs": [],
   "source": [
    "\n",
    "# 載入 Callbacks\n",
    "from keras.callbacks import Callback\n",
    "\n",
    "\"\"\"Code Here\n",
    "撰寫一個紀錄 ture positive 與 true negative 數量的 callbacks    \n",
    "\"\"\"\n",
    "\n",
    "# Record_fp_tp\n",
    "class Record_tp_tn(keras.callbacks.Callback):\n",
    "    \n",
    "    def __init__(self, val_data=(x_test, y_test)):\n",
    "        self.validation_data = val_data\n",
    "    \n",
    "    def on_train_begin(self, epoch, logs = {}):\n",
    "        logs = logs or {}\n",
    "        record_items = [\"val_tp\", \"val_tn\"]\n",
    "        for i in record_items:\n",
    "            try:\n",
    "                if i not in self.params['metrics']:\n",
    "                    self.params['metrics'].append(i)\n",
    "            except:\n",
    "                self.params['metrics']=i\n",
    "    \n",
    "    def on_epoch_end(self, epoch, logs = {}, thres=0.5):\n",
    "        logs = logs or {}\n",
    "        y_true = self.validation_data[1].argmax(axis = 1)\n",
    "        y_pred = self.model.predict(self.validation_data[0])\n",
    "        y_pred = (y_pred[:, 1] >= thres) * 1\n",
    "        \n",
    "        val_tp = sum(y_true*y_pred)\n",
    "        val_tn = sum((y_true==0) & (y_pred==0))\n",
    "        \n",
    "        logs[\"val_tp\"] = val_tp\n",
    "        logs[\"val_tn\"] = val_tn\n",
    "        \n",
    "rec_tptn = Record_tp_tn()"
   ]
  },
  {
   "cell_type": "code",
   "execution_count": 9,
   "metadata": {
    "scrolled": true
   },
   "outputs": [
    {
     "name": "stdout",
     "output_type": "stream",
     "text": [
      "Model: \"model_1\"\n",
      "_________________________________________________________________\n",
      "Layer (type)                 Output Shape              Param #   \n",
      "=================================================================\n",
      "input_2 (InputLayer)         [(None, 3072)]            0         \n",
      "_________________________________________________________________\n",
      "hidden_layer1 (Dense)        (None, 256)               786688    \n",
      "_________________________________________________________________\n",
      "batch_normalization_3 (Batch (None, 256)               1024      \n",
      "_________________________________________________________________\n",
      "hidden_layer2 (Dense)        (None, 256)               65792     \n",
      "_________________________________________________________________\n",
      "batch_normalization_4 (Batch (None, 256)               1024      \n",
      "_________________________________________________________________\n",
      "hidden_layer3 (Dense)        (None, 256)               65792     \n",
      "_________________________________________________________________\n",
      "batch_normalization_5 (Batch (None, 256)               1024      \n",
      "_________________________________________________________________\n",
      "output (Dense)               (None, 10)                2570      \n",
      "=================================================================\n",
      "Total params: 923,914\n",
      "Trainable params: 922,378\n",
      "Non-trainable params: 1,536\n",
      "_________________________________________________________________\n",
      "Epoch 1/25\n",
      "49/49 [==============================] - 1s 14ms/step - loss: 2.5090 - accuracy: 0.2027 - val_loss: 2.1295 - val_accuracy: 0.2046\n",
      "Epoch 2/25\n",
      "49/49 [==============================] - 0s 10ms/step - loss: 1.8101 - accuracy: 0.3711 - val_loss: 1.9698 - val_accuracy: 0.3299\n",
      "Epoch 3/25\n",
      "49/49 [==============================] - 1s 11ms/step - loss: 1.6528 - accuracy: 0.4211 - val_loss: 1.8345 - val_accuracy: 0.3790\n",
      "Epoch 4/25\n",
      "49/49 [==============================] - 1s 11ms/step - loss: 1.5723 - accuracy: 0.4502 - val_loss: 1.7251 - val_accuracy: 0.4121\n",
      "Epoch 5/25\n",
      "49/49 [==============================] - 1s 11ms/step - loss: 1.5204 - accuracy: 0.4677 - val_loss: 1.6371 - val_accuracy: 0.4290\n",
      "Epoch 6/25\n",
      "49/49 [==============================] - 0s 10ms/step - loss: 1.4804 - accuracy: 0.4813 - val_loss: 1.5866 - val_accuracy: 0.4440\n",
      "Epoch 7/25\n",
      "49/49 [==============================] - 1s 11ms/step - loss: 1.4241 - accuracy: 0.5013 - val_loss: 1.5545 - val_accuracy: 0.4504\n",
      "Epoch 8/25\n",
      "49/49 [==============================] - 1s 12ms/step - loss: 1.4000 - accuracy: 0.5138 - val_loss: 1.5328 - val_accuracy: 0.4584\n",
      "Epoch 9/25\n",
      "49/49 [==============================] - 1s 11ms/step - loss: 1.3712 - accuracy: 0.5201 - val_loss: 1.5103 - val_accuracy: 0.4621\n",
      "Epoch 10/25\n",
      "49/49 [==============================] - 1s 11ms/step - loss: 1.3383 - accuracy: 0.5358 - val_loss: 1.5025 - val_accuracy: 0.4685\n",
      "Epoch 11/25\n",
      "49/49 [==============================] - 1s 11ms/step - loss: 1.3132 - accuracy: 0.5439 - val_loss: 1.4867 - val_accuracy: 0.4688\n",
      "Epoch 12/25\n",
      "49/49 [==============================] - 1s 11ms/step - loss: 1.2895 - accuracy: 0.5535 - val_loss: 1.4917 - val_accuracy: 0.4705\n",
      "Epoch 13/25\n",
      "49/49 [==============================] - 1s 11ms/step - loss: 1.2633 - accuracy: 0.5628 - val_loss: 1.4762 - val_accuracy: 0.4747\n",
      "Epoch 14/25\n",
      "49/49 [==============================] - 1s 11ms/step - loss: 1.2463 - accuracy: 0.5711 - val_loss: 1.4734 - val_accuracy: 0.4764\n",
      "Epoch 15/25\n",
      "49/49 [==============================] - 1s 11ms/step - loss: 1.2217 - accuracy: 0.5777 - val_loss: 1.4694 - val_accuracy: 0.4818\n",
      "Epoch 16/25\n",
      "49/49 [==============================] - 1s 11ms/step - loss: 1.2060 - accuracy: 0.5844 - val_loss: 1.4616 - val_accuracy: 0.4843\n",
      "Epoch 17/25\n",
      "49/49 [==============================] - 1s 11ms/step - loss: 1.1821 - accuracy: 0.5940 - val_loss: 1.4583 - val_accuracy: 0.4843\n",
      "Epoch 18/25\n",
      "49/49 [==============================] - 1s 11ms/step - loss: 1.1688 - accuracy: 0.5954 - val_loss: 1.4589 - val_accuracy: 0.4835\n",
      "Epoch 19/25\n",
      "49/49 [==============================] - 1s 12ms/step - loss: 1.1463 - accuracy: 0.6028 - val_loss: 1.4472 - val_accuracy: 0.4882\n",
      "Epoch 20/25\n",
      "49/49 [==============================] - 1s 10ms/step - loss: 1.1333 - accuracy: 0.6124 - val_loss: 1.4495 - val_accuracy: 0.4883\n",
      "Epoch 21/25\n",
      "49/49 [==============================] - 1s 10ms/step - loss: 1.1144 - accuracy: 0.6179 - val_loss: 1.4361 - val_accuracy: 0.4901\n",
      "Epoch 22/25\n",
      "49/49 [==============================] - 1s 10ms/step - loss: 1.0917 - accuracy: 0.6273 - val_loss: 1.4404 - val_accuracy: 0.4854\n",
      "Epoch 23/25\n",
      "49/49 [==============================] - 1s 11ms/step - loss: 1.0758 - accuracy: 0.6302 - val_loss: 1.4527 - val_accuracy: 0.4908\n",
      "Epoch 24/25\n",
      "49/49 [==============================] - 1s 11ms/step - loss: 1.0666 - accuracy: 0.6378 - val_loss: 1.4427 - val_accuracy: 0.4970\n",
      "Epoch 25/25\n",
      "49/49 [==============================] - 1s 11ms/step - loss: 1.0425 - accuracy: 0.6461 - val_loss: 1.4412 - val_accuracy: 0.4962\n"
     ]
    }
   ],
   "source": [
    "model = build_mlp(input_shape=x_train.shape[1:])\n",
    "model.summary()\n",
    "optimizer = keras.optimizers.SGD(lr=LEARNING_RATE, nesterov=True, momentum=MOMENTUM)\n",
    "model.compile(loss=\"categorical_crossentropy\", metrics=[\"accuracy\"], optimizer=optimizer)\n",
    "\n",
    "\"\"\"Code Here\n",
    "將 callbacks 放入模型訓練流程中\n",
    "\"\"\"\n",
    "model.fit(x_train, y_train, \n",
    "          epochs=EPOCHS, \n",
    "          batch_size=BATCH_SIZE, \n",
    "          validation_data=(x_test, y_test), \n",
    "          shuffle=True,\n",
    "          callbacks=[rec_tptn])\n",
    "\n",
    "# Collect results\n",
    "train_loss = model.history.history[\"loss\"]\n",
    "valid_loss = model.history.history[\"val_loss\"]\n",
    "train_acc = model.history.history[\"accuracy\"]\n",
    "valid_acc = model.history.history[\"val_accuracy\"]\n",
    "\n",
    "\"\"\"Code Here\n",
    "將 tp/tn 從訓練完的模型中取出\n",
    "\"\"\"\n",
    "valid_tp = model.history.history['val_tp']\n",
    "valid_tn = model.history.history['val_tn']"
   ]
  },
  {
   "cell_type": "code",
   "execution_count": 10,
   "metadata": {},
   "outputs": [
    {
     "data": {
      "image/png": "[encoded data removed]",
      "text/plain": [
       "<Figure size 432x288 with 1 Axes>"
      ]
     },
     "metadata": {
      "needs_background": "light"
     },
     "output_type": "display_data"
    },
    {
     "data": {
      "image/png": "[encoded data removed]",
      "text/plain": [
       "<Figure size 432x288 with 1 Axes>"
      ]
     },
     "metadata": {
      "needs_background": "light"
     },
     "output_type": "display_data"
    },
    {
     "data": {
      "image/png": "[encoded data removed]",
      "text/plain": [
       "<Figure size 432x288 with 1 Axes>"
      ]
     },
     "metadata": {
      "needs_background": "light"
     },
     "output_type": "display_data"
    }
   ],
   "source": [
    "import matplotlib.pyplot as plt\n",
    "%matplotlib inline\n",
    "\n",
    "plt.plot(range(len(train_loss)), train_loss, label=\"train loss\")\n",
    "plt.plot(range(len(valid_loss)), valid_loss, label=\"valid loss\")\n",
    "plt.legend()\n",
    "plt.title(\"Loss\")\n",
    "plt.show()\n",
    "\n",
    "plt.plot(range(len(train_acc)), train_acc, label=\"train accuracy\")\n",
    "plt.plot(range(len(valid_acc)), valid_acc, label=\"valid accuracy\")\n",
    "plt.legend()\n",
    "plt.title(\"Accuracy\")\n",
    "plt.show()\n",
    "\n",
    "plt.plot(range(len(valid_tp)), valid_tp, label=\"valid tp\", color=\"navy\")\n",
    "plt.plot(range(len(valid_tn)), valid_tn, label=\"valid tn\", color=\"red\")\n",
    "plt.legend()\n",
    "plt.title(\"True positives and True Negatives\")\n",
    "plt.show()\n"
   ]
  },
  {
   "cell_type": "code",
   "execution_count": null,
   "metadata": {},
   "outputs": [],
   "source": []
  }
 ],
 "metadata": {
  "kernelspec": {
   "display_name": "Python (rtx0s)",
   "language": "python",
   "name": "rtx0s"
  },
  "language_info": {
   "codemirror_mode": {
    "name": "ipython",
    "version": 3
   },
   "file_extension": ".py",
   "mimetype": "text/x-python",
   "name": "python",
   "nbconvert_exporter": "python",
   "pygments_lexer": "ipython3",
   "version": "3.8.5"
  }
 },
 "nbformat": 4,
 "nbformat_minor": 2
}
