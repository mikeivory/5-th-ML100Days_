{
 "cells": [
  {
   "cell_type": "markdown",
   "metadata": {},
   "source": [
    "## Work\n",
    "1. 請嘗試將 preproc_x 替換成以每筆資料的 min/max 進行標準化至 -1 ~ 1 間，再進行訓練\n",
    "2. 請嘗試將 mlp 疊更深 (e.g 5~10 層)，進行訓練後觀察 learning curve 的走勢\n",
    "3. (optional) 請改用 GPU 進行訓練 (如果你有 GPU 的話)，比較使用 CPU 與 GPU 的訓練速度"
   ]
  },
  {
   "cell_type": "code",
   "execution_count": 1,
   "metadata": {},
   "outputs": [
    {
     "name": "stdout",
     "output_type": "stream",
     "text": [
      "Sat Dec 05 23:20:02 2020       \n",
      "+-----------------------------------------------------------------------------+\n",
      "| NVIDIA-SMI 457.30       Driver Version: 457.30       CUDA Version: 11.1     |\n",
      "|-------------------------------+----------------------+----------------------+\n",
      "| GPU  Name            TCC/WDDM | Bus-Id        Disp.A | Volatile Uncorr. ECC |\n",
      "| Fan  Temp  Perf  Pwr:Usage/Cap|         Memory-Usage | GPU-Util  Compute M. |\n",
      "|                               |                      |               MIG M. |\n",
      "|===============================+======================+======================|\n",
      "|   0  GeForce RTX 3070   WDDM  | 00000000:01:00.0  On |                  N/A |\n",
      "|  0%   39C    P8    13W / 220W |   8075MiB /  8192MiB |      1%      Default |\n",
      "|                               |                      |                  N/A |\n",
      "+-------------------------------+----------------------+----------------------+\n",
      "                                                                               \n",
      "+-----------------------------------------------------------------------------+\n",
      "| Processes:                                                                  |\n",
      "|  GPU   GI   CI        PID   Type   Process name                  GPU Memory |\n",
      "|        ID   ID                                                   Usage      |\n",
      "|=============================================================================|\n",
      "|    0   N/A  N/A       968      C   ...da3\\envs\\rtx0s\\python.exe    N/A      |\n",
      "|    0   N/A  N/A      5468    C+G   ...artMenuExperienceHost.exe    N/A      |\n",
      "|    0   N/A  N/A      5496    C+G   ...kyb3d8bbwe\\Calculator.exe    N/A      |\n",
      "|    0   N/A  N/A      5512    C+G   ...me\\Application\\chrome.exe    N/A      |\n",
      "|    0   N/A  N/A      7344    C+G   ...wekyb3d8bbwe\\Video.UI.exe    N/A      |\n",
      "|    0   N/A  N/A      8108    C+G   ...lPanel\\SystemSettings.exe    N/A      |\n",
      "|    0   N/A  N/A      9356    C+G   ...y\\ShellExperienceHost.exe    N/A      |\n",
      "|    0   N/A  N/A      9576    C+G   ...nputApp\\TextInputHost.exe    N/A      |\n",
      "|    0   N/A  N/A      9876    C+G   ...b3d8bbwe\\WinStore.App.exe    N/A      |\n",
      "|    0   N/A  N/A     11984    C+G   ...8wekyb3d8bbwe\\Cortana.exe    N/A      |\n",
      "|    0   N/A  N/A     12316    C+G   Insufficient Permissions        N/A      |\n",
      "|    0   N/A  N/A     13068    C+G   ...bbwe\\Microsoft.Photos.exe    N/A      |\n",
      "|    0   N/A  N/A     13500    C+G   ...ge\\Application\\msedge.exe    N/A      |\n",
      "|    0   N/A  N/A     14676    C+G   ...ekyb3d8bbwe\\YourPhone.exe    N/A      |\n",
      "|    0   N/A  N/A     15872    C+G   ...5n1h2txyewy\\SearchApp.exe    N/A      |\n",
      "|    0   N/A  N/A     17024    C+G   ...p-2.6.0\\GitHubDesktop.exe    N/A      |\n",
      "|    0   N/A  N/A     17296    C+G   ...f.win7\\steamwebhelper.exe    N/A      |\n",
      "|    0   N/A  N/A     17384    C+G   C:\\Windows\\explorer.exe         N/A      |\n",
      "+-----------------------------------------------------------------------------+\n"
     ]
    }
   ],
   "source": [
    "## \n",
    "\"\"\"\n",
    "Your code here (optional)\n",
    "確認硬體資源\n",
    "\"\"\"\n",
    "!nvidia-smi"
   ]
  },
  {
   "cell_type": "code",
   "execution_count": 2,
   "metadata": {},
   "outputs": [],
   "source": [
    "import os\n",
    "import keras\n",
    "\n",
    "# 請嘗試設定 GPU：os.environ\n"
   ]
  },
  {
   "cell_type": "code",
   "execution_count": 3,
   "metadata": {},
   "outputs": [],
   "source": [
    "train, test = keras.datasets.cifar10.load_data()"
   ]
  },
  {
   "cell_type": "code",
   "execution_count": 12,
   "metadata": {},
   "outputs": [],
   "source": [
    "## 資料前處理\n",
    "\"\"\"\n",
    "Your code here\n",
    "\"\"\"\n",
    "def preproc_x(x,flatten=True):\n",
    "    x=(((x-x.min())/(x.max()-x.min()))-0.5)*2\n",
    "    if flatten:\n",
    "        x=x.reshape((len(x),-1))\n",
    "    return x\n",
    "\n",
    "def preproc_y(y,num=10):\n",
    "    if y.shape[-1]==1:\n",
    "        y=keras.utils.to_categorical(y,num)\n",
    "    return y"
   ]
  },
  {
   "cell_type": "code",
   "execution_count": 13,
   "metadata": {},
   "outputs": [],
   "source": [
    "x_train, y_train = train\n",
    "x_test, y_test = test\n",
    "\n",
    "# Preproc the inputs\n",
    "x_train = preproc_x(x_train)\n",
    "x_test = preproc_x(x_test)\n",
    "\n",
    "# Preprc the outputs\n",
    "y_train = preproc_y(y_train)\n",
    "y_test = preproc_y(y_test)"
   ]
  },
  {
   "cell_type": "code",
   "execution_count": 14,
   "metadata": {},
   "outputs": [],
   "source": [
    "\"\"\"Code Here\n",
    "建立你的神經網路\n",
    "\"\"\"\n",
    "def build_mlp(input_shape,output_units=10,num_neurons=[512,256,256,128,128]):\n",
    "    input_layer=keras.layers.Input(input_shape)\n",
    "    for i, n_units in enumerate(num_neurons):\n",
    "        if i == 0:\n",
    "            x = keras.layers.Dense(units=n_units, activation=\"relu\", name=\"hidden_layer\"+str(i+1))(input_layer)\n",
    "        else:\n",
    "            x = keras.layers.Dense(units=n_units, activation=\"relu\", name=\"hidden_layer\"+str(i+1))(x)\n",
    "    \n",
    "    out = keras.layers.Dense(units=output_units, activation=\"softmax\", name=\"output\")(x)\n",
    "    \n",
    "    model = keras.models.Model(inputs=[input_layer], outputs=[out])\n",
    "    return model\n"
   ]
  },
  {
   "cell_type": "code",
   "execution_count": 15,
   "metadata": {},
   "outputs": [
    {
     "name": "stdout",
     "output_type": "stream",
     "text": [
      "Model: \"model_1\"\n",
      "_________________________________________________________________\n",
      "Layer (type)                 Output Shape              Param #   \n",
      "=================================================================\n",
      "input_2 (InputLayer)         [(None, 3072)]            0         \n",
      "_________________________________________________________________\n",
      "hidden_layer1 (Dense)        (None, 512)               1573376   \n",
      "_________________________________________________________________\n",
      "hidden_layer2 (Dense)        (None, 256)               131328    \n",
      "_________________________________________________________________\n",
      "hidden_layer3 (Dense)        (None, 256)               65792     \n",
      "_________________________________________________________________\n",
      "hidden_layer4 (Dense)        (None, 128)               32896     \n",
      "_________________________________________________________________\n",
      "hidden_layer5 (Dense)        (None, 128)               16512     \n",
      "_________________________________________________________________\n",
      "output (Dense)               (None, 10)                1290      \n",
      "=================================================================\n",
      "Total params: 1,821,194\n",
      "Trainable params: 1,821,194\n",
      "Non-trainable params: 0\n",
      "_________________________________________________________________\n"
     ]
    }
   ],
   "source": [
    "model = build_mlp(input_shape=x_train.shape[1:])\n",
    "model.summary()\n"
   ]
  },
  {
   "cell_type": "code",
   "execution_count": 8,
   "metadata": {},
   "outputs": [],
   "source": [
    "## 超參數設定\n",
    "LEARNING_RATE = 0.001\n",
    "EPOCHS = 100\n",
    "BATCH_SIZE = 256"
   ]
  },
  {
   "cell_type": "code",
   "execution_count": 17,
   "metadata": {},
   "outputs": [],
   "source": [
    "optimizer = keras.optimizers.Adam(lr=LEARNING_RATE)\n",
    "model.compile(loss=\"categorical_crossentropy\", metrics=[\"accuracy\"], optimizer=optimizer)"
   ]
  },
  {
   "cell_type": "code",
   "execution_count": 1,
   "metadata": {},
   "outputs": [],
   "source": [
    "import tensorflow as tf\n",
    "gpus = tf.config.experimental.list_physical_devices(device_type='GPU')\n",
    "for gpu in gpus:\n",
    "    tf.config.experimental.set_memory_growth(gpu, True)\n"
   ]
  },
  {
   "cell_type": "code",
   "execution_count": 18,
   "metadata": {
    "scrolled": true
   },
   "outputs": [
    {
     "name": "stdout",
     "output_type": "stream",
     "text": [
      "Epoch 1/100\n",
      "196/196 [==============================] - 2s 6ms/step - loss: 1.8212 - accuracy: 0.3479 - val_loss: 1.5257 - val_accuracy: 0.4564\n",
      "Epoch 2/100\n",
      "196/196 [==============================] - 1s 4ms/step - loss: 1.4618 - accuracy: 0.4829 - val_loss: 1.4661 - val_accuracy: 0.4785\n",
      "Epoch 3/100\n",
      "196/196 [==============================] - 1s 4ms/step - loss: 1.3412 - accuracy: 0.5262 - val_loss: 1.3898 - val_accuracy: 0.5087\n",
      "Epoch 4/100\n",
      "196/196 [==============================] - 1s 5ms/step - loss: 1.2329 - accuracy: 0.5639 - val_loss: 1.3677 - val_accuracy: 0.5240\n",
      "Epoch 5/100\n",
      "196/196 [==============================] - 1s 5ms/step - loss: 1.1500 - accuracy: 0.5919 - val_loss: 1.3634 - val_accuracy: 0.5212\n",
      "Epoch 6/100\n",
      "196/196 [==============================] - 1s 5ms/step - loss: 1.0729 - accuracy: 0.6174 - val_loss: 1.3681 - val_accuracy: 0.5299\n",
      "Epoch 7/100\n",
      "196/196 [==============================] - 1s 4ms/step - loss: 0.9810 - accuracy: 0.6515 - val_loss: 1.3853 - val_accuracy: 0.5320\n",
      "Epoch 8/100\n",
      "196/196 [==============================] - 1s 4ms/step - loss: 0.9042 - accuracy: 0.6765 - val_loss: 1.3816 - val_accuracy: 0.5382\n",
      "Epoch 9/100\n",
      "196/196 [==============================] - 1s 5ms/step - loss: 0.8312 - accuracy: 0.7045 - val_loss: 1.4103 - val_accuracy: 0.5355\n",
      "Epoch 10/100\n",
      "196/196 [==============================] - 1s 5ms/step - loss: 0.7556 - accuracy: 0.7340 - val_loss: 1.4848 - val_accuracy: 0.5278\n",
      "Epoch 11/100\n",
      "196/196 [==============================] - 1s 5ms/step - loss: 0.7026 - accuracy: 0.7524 - val_loss: 1.5432 - val_accuracy: 0.5332\n",
      "Epoch 12/100\n",
      "196/196 [==============================] - 1s 4ms/step - loss: 0.6391 - accuracy: 0.7739 - val_loss: 1.6216 - val_accuracy: 0.5295\n",
      "Epoch 13/100\n",
      "196/196 [==============================] - 1s 4ms/step - loss: 0.5731 - accuracy: 0.7975 - val_loss: 1.6841 - val_accuracy: 0.5320\n",
      "Epoch 14/100\n",
      "196/196 [==============================] - 1s 4ms/step - loss: 0.5205 - accuracy: 0.8152 - val_loss: 1.8242 - val_accuracy: 0.5251\n",
      "Epoch 15/100\n",
      "196/196 [==============================] - 1s 4ms/step - loss: 0.4630 - accuracy: 0.8353 - val_loss: 1.8343 - val_accuracy: 0.5347\n",
      "Epoch 16/100\n",
      "196/196 [==============================] - 1s 4ms/step - loss: 0.4355 - accuracy: 0.8476 - val_loss: 1.9749 - val_accuracy: 0.5265\n",
      "Epoch 17/100\n",
      "196/196 [==============================] - 1s 5ms/step - loss: 0.3769 - accuracy: 0.8662 - val_loss: 2.0730 - val_accuracy: 0.5261\n",
      "Epoch 18/100\n",
      "196/196 [==============================] - 1s 4ms/step - loss: 0.3454 - accuracy: 0.8791 - val_loss: 2.1029 - val_accuracy: 0.5248\n",
      "Epoch 19/100\n",
      "196/196 [==============================] - 1s 4ms/step - loss: 0.3353 - accuracy: 0.8830 - val_loss: 2.2735 - val_accuracy: 0.5281\n",
      "Epoch 20/100\n",
      "196/196 [==============================] - 1s 4ms/step - loss: 0.2967 - accuracy: 0.8951 - val_loss: 2.3963 - val_accuracy: 0.5133\n",
      "Epoch 21/100\n",
      "196/196 [==============================] - 1s 5ms/step - loss: 0.2844 - accuracy: 0.9006 - val_loss: 2.4629 - val_accuracy: 0.5222\n",
      "Epoch 22/100\n",
      "196/196 [==============================] - 1s 4ms/step - loss: 0.2800 - accuracy: 0.9024 - val_loss: 2.6146 - val_accuracy: 0.5304\n",
      "Epoch 23/100\n",
      "196/196 [==============================] - 1s 4ms/step - loss: 0.2327 - accuracy: 0.9189 - val_loss: 2.6909 - val_accuracy: 0.5203\n",
      "Epoch 24/100\n",
      "196/196 [==============================] - 1s 4ms/step - loss: 0.2469 - accuracy: 0.9176 - val_loss: 2.7676 - val_accuracy: 0.5263\n",
      "Epoch 25/100\n",
      "196/196 [==============================] - 1s 5ms/step - loss: 0.2166 - accuracy: 0.9244 - val_loss: 2.8662 - val_accuracy: 0.5303\n",
      "Epoch 26/100\n",
      "196/196 [==============================] - 1s 5ms/step - loss: 0.2193 - accuracy: 0.9234 - val_loss: 2.9060 - val_accuracy: 0.5246\n",
      "Epoch 27/100\n",
      "196/196 [==============================] - 1s 4ms/step - loss: 0.1856 - accuracy: 0.9347 - val_loss: 2.8161 - val_accuracy: 0.5200\n",
      "Epoch 28/100\n",
      "196/196 [==============================] - 1s 4ms/step - loss: 0.1974 - accuracy: 0.9306 - val_loss: 2.9924 - val_accuracy: 0.5219\n",
      "Epoch 29/100\n",
      "196/196 [==============================] - 1s 4ms/step - loss: 0.1820 - accuracy: 0.9368 - val_loss: 3.1236 - val_accuracy: 0.5347\n",
      "Epoch 30/100\n",
      "196/196 [==============================] - 1s 5ms/step - loss: 0.1717 - accuracy: 0.9407 - val_loss: 3.1858 - val_accuracy: 0.5156\n",
      "Epoch 31/100\n",
      "196/196 [==============================] - 1s 4ms/step - loss: 0.1832 - accuracy: 0.9398 - val_loss: 3.0373 - val_accuracy: 0.5360\n",
      "Epoch 32/100\n",
      "196/196 [==============================] - 1s 4ms/step - loss: 0.1569 - accuracy: 0.9465 - val_loss: 3.1162 - val_accuracy: 0.5298\n",
      "Epoch 33/100\n",
      "196/196 [==============================] - 1s 4ms/step - loss: 0.1302 - accuracy: 0.9566 - val_loss: 3.2822 - val_accuracy: 0.5273\n",
      "Epoch 34/100\n",
      "196/196 [==============================] - 1s 5ms/step - loss: 0.1602 - accuracy: 0.9453 - val_loss: 3.1868 - val_accuracy: 0.5259\n",
      "Epoch 35/100\n",
      "196/196 [==============================] - 1s 4ms/step - loss: 0.1661 - accuracy: 0.9422 - val_loss: 3.4707 - val_accuracy: 0.5291\n",
      "Epoch 36/100\n",
      "196/196 [==============================] - 1s 4ms/step - loss: 0.1362 - accuracy: 0.9542 - val_loss: 3.4509 - val_accuracy: 0.5237\n",
      "Epoch 37/100\n",
      "196/196 [==============================] - 1s 4ms/step - loss: 0.1546 - accuracy: 0.9489 - val_loss: 3.3461 - val_accuracy: 0.5260\n",
      "Epoch 38/100\n",
      "196/196 [==============================] - 1s 5ms/step - loss: 0.1257 - accuracy: 0.9580 - val_loss: 3.5539 - val_accuracy: 0.5262\n",
      "Epoch 39/100\n",
      "196/196 [==============================] - 1s 5ms/step - loss: 0.1353 - accuracy: 0.9548 - val_loss: 3.7716 - val_accuracy: 0.5251\n",
      "Epoch 40/100\n",
      "196/196 [==============================] - 1s 5ms/step - loss: 0.1410 - accuracy: 0.9525 - val_loss: 3.5253 - val_accuracy: 0.5292\n",
      "Epoch 41/100\n",
      "196/196 [==============================] - 1s 5ms/step - loss: 0.1172 - accuracy: 0.9616 - val_loss: 3.4337 - val_accuracy: 0.5324\n",
      "Epoch 42/100\n",
      "196/196 [==============================] - 1s 5ms/step - loss: 0.1419 - accuracy: 0.9526 - val_loss: 3.4552 - val_accuracy: 0.5239\n",
      "Epoch 43/100\n",
      "196/196 [==============================] - 1s 4ms/step - loss: 0.1102 - accuracy: 0.9628 - val_loss: 3.6560 - val_accuracy: 0.5303\n",
      "Epoch 44/100\n",
      "196/196 [==============================] - 1s 5ms/step - loss: 0.1061 - accuracy: 0.9643 - val_loss: 3.5342 - val_accuracy: 0.5292\n",
      "Epoch 45/100\n",
      "196/196 [==============================] - 1s 5ms/step - loss: 0.1179 - accuracy: 0.9605 - val_loss: 3.6082 - val_accuracy: 0.5283\n",
      "Epoch 46/100\n",
      "196/196 [==============================] - 1s 5ms/step - loss: 0.1271 - accuracy: 0.9571 - val_loss: 3.5588 - val_accuracy: 0.5254\n",
      "Epoch 47/100\n",
      "196/196 [==============================] - 1s 5ms/step - loss: 0.1070 - accuracy: 0.9644 - val_loss: 3.6749 - val_accuracy: 0.5278\n",
      "Epoch 48/100\n",
      "196/196 [==============================] - 1s 5ms/step - loss: 0.1135 - accuracy: 0.9620 - val_loss: 3.8084 - val_accuracy: 0.5257\n",
      "Epoch 49/100\n",
      "196/196 [==============================] - 1s 5ms/step - loss: 0.1014 - accuracy: 0.9656 - val_loss: 3.8309 - val_accuracy: 0.5225\n",
      "Epoch 50/100\n",
      "196/196 [==============================] - 1s 5ms/step - loss: 0.1046 - accuracy: 0.9647 - val_loss: 3.6016 - val_accuracy: 0.5264\n",
      "Epoch 51/100\n",
      "196/196 [==============================] - 1s 5ms/step - loss: 0.0927 - accuracy: 0.9683 - val_loss: 3.9638 - val_accuracy: 0.5280\n",
      "Epoch 52/100\n",
      "196/196 [==============================] - 1s 5ms/step - loss: 0.1165 - accuracy: 0.9613 - val_loss: 3.8927 - val_accuracy: 0.5246\n",
      "Epoch 53/100\n",
      "196/196 [==============================] - 1s 5ms/step - loss: 0.1064 - accuracy: 0.9660 - val_loss: 3.6920 - val_accuracy: 0.5252\n",
      "Epoch 54/100\n",
      "196/196 [==============================] - 1s 5ms/step - loss: 0.1025 - accuracy: 0.9666 - val_loss: 3.9698 - val_accuracy: 0.5246\n",
      "Epoch 55/100\n",
      "196/196 [==============================] - 1s 5ms/step - loss: 0.1014 - accuracy: 0.9654 - val_loss: 3.8632 - val_accuracy: 0.5249\n",
      "Epoch 56/100\n",
      "196/196 [==============================] - 1s 5ms/step - loss: 0.1066 - accuracy: 0.9652 - val_loss: 3.9646 - val_accuracy: 0.5224\n",
      "Epoch 57/100\n",
      "196/196 [==============================] - 1s 4ms/step - loss: 0.1290 - accuracy: 0.9574 - val_loss: 4.0170 - val_accuracy: 0.5301\n"
     ]
    },
    {
     "name": "stdout",
     "output_type": "stream",
     "text": [
      "Epoch 58/100\n",
      "196/196 [==============================] - 1s 4ms/step - loss: 0.0787 - accuracy: 0.9740 - val_loss: 3.9515 - val_accuracy: 0.5268\n",
      "Epoch 59/100\n",
      "196/196 [==============================] - 1s 4ms/step - loss: 0.0844 - accuracy: 0.9731 - val_loss: 3.9520 - val_accuracy: 0.5309\n",
      "Epoch 60/100\n",
      "196/196 [==============================] - 1s 5ms/step - loss: 0.0899 - accuracy: 0.9708 - val_loss: 4.1012 - val_accuracy: 0.5229\n",
      "Epoch 61/100\n",
      "196/196 [==============================] - 1s 5ms/step - loss: 0.1302 - accuracy: 0.9592 - val_loss: 3.7636 - val_accuracy: 0.5274\n",
      "Epoch 62/100\n",
      "196/196 [==============================] - 1s 5ms/step - loss: 0.0958 - accuracy: 0.9694 - val_loss: 3.9930 - val_accuracy: 0.5226\n",
      "Epoch 63/100\n",
      "196/196 [==============================] - 1s 5ms/step - loss: 0.1020 - accuracy: 0.9668 - val_loss: 4.2654 - val_accuracy: 0.5312\n",
      "Epoch 64/100\n",
      "196/196 [==============================] - 1s 5ms/step - loss: 0.0787 - accuracy: 0.9750 - val_loss: 4.0408 - val_accuracy: 0.5236\n",
      "Epoch 65/100\n",
      "196/196 [==============================] - 1s 5ms/step - loss: 0.0729 - accuracy: 0.9755 - val_loss: 4.0087 - val_accuracy: 0.5196\n",
      "Epoch 66/100\n",
      "196/196 [==============================] - 1s 5ms/step - loss: 0.0889 - accuracy: 0.9710 - val_loss: 4.2169 - val_accuracy: 0.5298\n",
      "Epoch 67/100\n",
      "196/196 [==============================] - 1s 5ms/step - loss: 0.0866 - accuracy: 0.9720 - val_loss: 4.0968 - val_accuracy: 0.5305\n",
      "Epoch 68/100\n",
      "196/196 [==============================] - 1s 5ms/step - loss: 0.0890 - accuracy: 0.9704 - val_loss: 4.0819 - val_accuracy: 0.5263\n",
      "Epoch 69/100\n",
      "196/196 [==============================] - 1s 4ms/step - loss: 0.0927 - accuracy: 0.9696 - val_loss: 3.8815 - val_accuracy: 0.5297\n",
      "Epoch 70/100\n",
      "196/196 [==============================] - 1s 4ms/step - loss: 0.0731 - accuracy: 0.9760 - val_loss: 4.1694 - val_accuracy: 0.5252\n",
      "Epoch 71/100\n",
      "196/196 [==============================] - 1s 4ms/step - loss: 0.0791 - accuracy: 0.9747 - val_loss: 4.1245 - val_accuracy: 0.5284\n",
      "Epoch 72/100\n",
      "196/196 [==============================] - 1s 4ms/step - loss: 0.0926 - accuracy: 0.9698 - val_loss: 4.0933 - val_accuracy: 0.5293\n",
      "Epoch 73/100\n",
      "196/196 [==============================] - 1s 5ms/step - loss: 0.0786 - accuracy: 0.9741 - val_loss: 4.1350 - val_accuracy: 0.5319\n",
      "Epoch 74/100\n",
      "196/196 [==============================] - 1s 4ms/step - loss: 0.0582 - accuracy: 0.9817 - val_loss: 4.1982 - val_accuracy: 0.5257\n",
      "Epoch 75/100\n",
      "196/196 [==============================] - 1s 5ms/step - loss: 0.0975 - accuracy: 0.9690 - val_loss: 4.1640 - val_accuracy: 0.5335\n",
      "Epoch 76/100\n",
      "196/196 [==============================] - 1s 4ms/step - loss: 0.0721 - accuracy: 0.9769 - val_loss: 4.1803 - val_accuracy: 0.5294\n",
      "Epoch 77/100\n",
      "196/196 [==============================] - 1s 4ms/step - loss: 0.0701 - accuracy: 0.9777 - val_loss: 4.3515 - val_accuracy: 0.5262\n",
      "Epoch 78/100\n",
      "196/196 [==============================] - 1s 5ms/step - loss: 0.0814 - accuracy: 0.9744 - val_loss: 4.1009 - val_accuracy: 0.5297\n",
      "Epoch 79/100\n",
      "196/196 [==============================] - 1s 4ms/step - loss: 0.0669 - accuracy: 0.9793 - val_loss: 4.2244 - val_accuracy: 0.5318\n",
      "Epoch 80/100\n",
      "196/196 [==============================] - 1s 4ms/step - loss: 0.0768 - accuracy: 0.9764 - val_loss: 4.2138 - val_accuracy: 0.5220\n",
      "Epoch 81/100\n",
      "196/196 [==============================] - 1s 5ms/step - loss: 0.0817 - accuracy: 0.9732 - val_loss: 4.2440 - val_accuracy: 0.5340\n",
      "Epoch 82/100\n",
      "196/196 [==============================] - 1s 4ms/step - loss: 0.0768 - accuracy: 0.9758 - val_loss: 4.1084 - val_accuracy: 0.5213\n",
      "Epoch 83/100\n",
      "196/196 [==============================] - 1s 4ms/step - loss: 0.0560 - accuracy: 0.9821 - val_loss: 4.2462 - val_accuracy: 0.5314\n",
      "Epoch 84/100\n",
      "196/196 [==============================] - 1s 5ms/step - loss: 0.0654 - accuracy: 0.9797 - val_loss: 4.1847 - val_accuracy: 0.5280\n",
      "Epoch 85/100\n",
      "196/196 [==============================] - 1s 4ms/step - loss: 0.0626 - accuracy: 0.9789 - val_loss: 4.2420 - val_accuracy: 0.5331\n",
      "Epoch 86/100\n",
      "196/196 [==============================] - 1s 4ms/step - loss: 0.0736 - accuracy: 0.9755 - val_loss: 4.3296 - val_accuracy: 0.5305\n",
      "Epoch 87/100\n",
      "196/196 [==============================] - 1s 4ms/step - loss: 0.0672 - accuracy: 0.9785 - val_loss: 4.4313 - val_accuracy: 0.5376\n",
      "Epoch 88/100\n",
      "196/196 [==============================] - 1s 4ms/step - loss: 0.0538 - accuracy: 0.9826 - val_loss: 4.4204 - val_accuracy: 0.5255\n",
      "Epoch 89/100\n",
      "196/196 [==============================] - 1s 5ms/step - loss: 0.1008 - accuracy: 0.9676 - val_loss: 4.2038 - val_accuracy: 0.5316\n",
      "Epoch 90/100\n",
      "196/196 [==============================] - 1s 4ms/step - loss: 0.0602 - accuracy: 0.9817 - val_loss: 4.4181 - val_accuracy: 0.5294\n",
      "Epoch 91/100\n",
      "196/196 [==============================] - 1s 5ms/step - loss: 0.0806 - accuracy: 0.9752 - val_loss: 4.2588 - val_accuracy: 0.5311\n",
      "Epoch 92/100\n",
      "196/196 [==============================] - 1s 4ms/step - loss: 0.0659 - accuracy: 0.9800 - val_loss: 4.1733 - val_accuracy: 0.5292\n",
      "Epoch 93/100\n",
      "196/196 [==============================] - 1s 4ms/step - loss: 0.0576 - accuracy: 0.9808 - val_loss: 4.3957 - val_accuracy: 0.5395\n",
      "Epoch 94/100\n",
      "196/196 [==============================] - 1s 5ms/step - loss: 0.0517 - accuracy: 0.9830 - val_loss: 4.2368 - val_accuracy: 0.5323\n",
      "Epoch 95/100\n",
      "196/196 [==============================] - 1s 4ms/step - loss: 0.0633 - accuracy: 0.9794 - val_loss: 4.3999 - val_accuracy: 0.5356\n",
      "Epoch 96/100\n",
      "196/196 [==============================] - 1s 5ms/step - loss: 0.0716 - accuracy: 0.9765 - val_loss: 4.3389 - val_accuracy: 0.5359\n",
      "Epoch 97/100\n",
      "196/196 [==============================] - 1s 5ms/step - loss: 0.0633 - accuracy: 0.9796 - val_loss: 4.5251 - val_accuracy: 0.5341\n",
      "Epoch 98/100\n",
      "196/196 [==============================] - 1s 5ms/step - loss: 0.0531 - accuracy: 0.9826 - val_loss: 4.5991 - val_accuracy: 0.5314\n",
      "Epoch 99/100\n",
      "196/196 [==============================] - 1s 4ms/step - loss: 0.0778 - accuracy: 0.9762 - val_loss: 4.2716 - val_accuracy: 0.5223\n",
      "Epoch 100/100\n",
      "196/196 [==============================] - 1s 4ms/step - loss: 0.0569 - accuracy: 0.9823 - val_loss: 4.4900 - val_accuracy: 0.5244\n"
     ]
    },
    {
     "data": {
      "text/plain": [
       "<tensorflow.python.keras.callbacks.History at 0x281f4bb0af0>"
      ]
     },
     "execution_count": 18,
     "metadata": {},
     "output_type": "execute_result"
    }
   ],
   "source": [
    "model.fit(x_train, y_train, \n",
    "          epochs=EPOCHS, \n",
    "          batch_size=BATCH_SIZE, \n",
    "          validation_data=(x_test, y_test), \n",
    "          shuffle=True)"
   ]
  },
  {
   "cell_type": "code",
   "execution_count": 19,
   "metadata": {},
   "outputs": [
    {
     "data": {
      "image/png": "[encoded data removed]",
      "text/plain": [
       "<Figure size 432x288 with 1 Axes>"
      ]
     },
     "metadata": {
      "needs_background": "light"
     },
     "output_type": "display_data"
    },
    {
     "data": {
      "image/png": "[encoded data removed]",
      "text/plain": [
       "<Figure size 432x288 with 1 Axes>"
      ]
     },
     "metadata": {
      "needs_background": "light"
     },
     "output_type": "display_data"
    }
   ],
   "source": [
    "import matplotlib.pyplot as plt\n",
    "\n",
    "\n",
    "train_loss = model.history.history[\"loss\"]\n",
    "valid_loss = model.history.history[\"val_loss\"]\n",
    "\n",
    "train_acc = model.history.history[\"accuracy\"]\n",
    "valid_acc = model.history.history[\"val_accuracy\"]\n",
    "\n",
    "plt.plot(range(len(train_loss)), train_loss, label=\"train loss\")\n",
    "plt.plot(range(len(valid_loss)), valid_loss, label=\"valid loss\")\n",
    "plt.legend()\n",
    "plt.title(\"Loss\")\n",
    "plt.show()\n",
    "\n",
    "plt.plot(range(len(train_acc)), train_acc, label=\"train accuracy\")\n",
    "plt.plot(range(len(valid_acc)), valid_acc, label=\"valid accuracy\")\n",
    "plt.legend()\n",
    "plt.title(\"Accuracy\")\n",
    "plt.show()"
   ]
  },
  {
   "cell_type": "code",
   "execution_count": null,
   "metadata": {},
   "outputs": [],
   "source": []
  }
 ],
 "metadata": {
  "kernelspec": {
   "display_name": "Python (rtx0s)",
   "language": "python",
   "name": "rtx0s"
  },
  "language_info": {
   "codemirror_mode": {
    "name": "ipython",
    "version": 3
   },
   "file_extension": ".py",
   "mimetype": "text/x-python",
   "name": "python",
   "nbconvert_exporter": "python",
   "pygments_lexer": "ipython3",
   "version": "3.8.5"
  }
 },
 "nbformat": 4,
 "nbformat_minor": 2
}
